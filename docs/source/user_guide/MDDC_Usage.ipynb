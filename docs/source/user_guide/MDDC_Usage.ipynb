{
 "cells": [
  {
   "cell_type": "markdown",
   "metadata": {},
   "source": [
    "# Usage Examples for `MDDC` in Python\n",
    "\n",
    "Authors: Raktim Mukhopadhyay, Anran Liu, Marianthi Markatou"
   ]
  },
  {
   "cell_type": "code",
   "execution_count": null,
   "metadata": {},
   "outputs": [],
   "source": [
    "import warnings\n",
    "from datetime import datetime\n",
    "\n",
    "import numpy as np\n",
    "import pandas as pd\n",
    "from IPython.display import Markdown, display\n",
    "\n",
    "warnings.filterwarnings(\"ignore\")\n",
    "\n",
    "\n",
    "current_date = datetime.now().strftime(\"%d %B, %Y\")\n",
    "display(Markdown(f\"**Date Updated:** {current_date}\"))"
   ]
  },
  {
   "cell_type": "code",
   "execution_count": null,
   "metadata": {},
   "outputs": [],
   "source": [
    "import MDDC\n",
    "\n",
    "MDDC.__version__"
   ]
  },
  {
   "cell_type": "markdown",
   "metadata": {},
   "source": [
    "## Introduction"
   ]
  },
  {
   "cell_type": "markdown",
   "metadata": {},
   "source": [
    "This vignette contains various examples that illustrate usage of `MDDC`."
   ]
  },
  {
   "cell_type": "markdown",
   "metadata": {},
   "source": [
    "### Installation"
   ]
  },
  {
   "cell_type": "markdown",
   "metadata": {},
   "source": [
    "The `MDDC` package is available on PyPI and can be installed using `pip`. Additionally, the development version can be found on [GitHub](https://github.com/rmj3197/MDDC). "
   ]
  },
  {
   "cell_type": "markdown",
   "metadata": {},
   "source": [
    "## Dataset"
   ]
  },
  {
   "cell_type": "markdown",
   "metadata": {},
   "source": [
    "We have included an adverse event dataset curated from FDA Adverse Event Reporting System (FAERS) called `statin49` dataset which we will be using for describing the functionalities of `MDDC`. `statin49` was downloaded and processed from the FAERS database, covering the period from the third quarter of 2014 (Q3 2014) to the fourth quarter of 2020 (Q4 2020). This dataset is a $50 \\times 7$ contingency table. The first 49 rows represent 49 important AEs associated with the statin class, while the final row aggregates the remaining 5,990 AEs. "
   ]
  },
  {
   "cell_type": "code",
   "execution_count": null,
   "metadata": {},
   "outputs": [],
   "source": [
    "statin49 = MDDC.datasets.load_statin49_data()"
   ]
  },
  {
   "cell_type": "code",
   "execution_count": null,
   "metadata": {},
   "outputs": [],
   "source": [
    "statin49.head()"
   ]
  },
  {
   "cell_type": "code",
   "execution_count": null,
   "metadata": {},
   "outputs": [],
   "source": [
    "statin49_cluster_idx = MDDC.datasets.load_statin49_cluster_idx_data()"
   ]
  },
  {
   "cell_type": "code",
   "execution_count": null,
   "metadata": {},
   "outputs": [],
   "source": [
    "statin49_cluster_idx.head()"
   ]
  },
  {
   "cell_type": "markdown",
   "metadata": {},
   "source": [
    "## Adverse Event (AE) identification with MDDC"
   ]
  },
  {
   "cell_type": "markdown",
   "metadata": {},
   "source": [
    "### Using Boxplot Method "
   ]
  },
  {
   "cell_type": "code",
   "execution_count": null,
   "metadata": {},
   "outputs": [],
   "source": [
    "boxplot_results = MDDC.MDDC.mddc(\n",
    "    contin_table=statin49,\n",
    "    method=\"boxplot\",\n",
    "    col_specific_cutoff=True,\n",
    "    separate=True,\n",
    "    if_col_corr=False,\n",
    "    corr_lim=0.8,\n",
    ")"
   ]
  },
  {
   "cell_type": "code",
   "execution_count": null,
   "metadata": {},
   "outputs": [],
   "source": [
    "print(\n",
    "    f\"The boxplot method result contains the following components:{boxplot_results._fields}\"\n",
    ")"
   ]
  },
  {
   "cell_type": "markdown",
   "metadata": {},
   "source": [
    "MDDC with boplot method function outputs a list with three components as seen above:\n",
    "\n",
    "- `signal`: An $I \\times J$ data matrix with entries 1 or 0, indicating the signals identified in step 2. A value of 1 indicates signals, 0 indicates no signal.\n",
    "- `corr_signal_pval`: An $I \\times J$ data matrix of p-values for each cell in the contingency table from step 5, when the $r_{ij}$ values are mapped back to the standard normal distribution.\n",
    "- `corr_signal_adj_pval`: An $I \\times J$ data matrix of the Benjamini-Hochberg adjusted p-values for each cell in step 5. Users can choose whether to use `corr_signal_pval` or `corr_signal_adj_pval`, and can set their own p-value threshold (for example, 0.05).\n"
   ]
  },
  {
   "cell_type": "markdown",
   "metadata": {},
   "source": [
    "Below, we display the first few rows and columns for each component of `boxplot_result`. "
   ]
  },
  {
   "cell_type": "code",
   "execution_count": null,
   "metadata": {},
   "outputs": [],
   "source": [
    "boxplot_results.signal.head(6)"
   ]
  },
  {
   "cell_type": "code",
   "execution_count": null,
   "metadata": {},
   "outputs": [],
   "source": [
    "boxplot_results.corr_signal_pval.round(3).head(6)"
   ]
  },
  {
   "cell_type": "markdown",
   "metadata": {},
   "source": [
    "In this output, we observe that the first row, corresponding to the adverse event *Rhabdomyolysis*, does not have associated p-values. This is because, in step 2 of the algorithm, *Rhabdomyolysis* was already identified as an AE signal for Atorvastatin, Pravastatin, Rosuvastatin, and Simvastatin. Consequently, the standardized Pearson residual values for these four drugs were replaced with NA. With only two residual values remaining in the first row, it was not possible to find connected AEs for *Rhabdomyolysis*. Therefore, this adverse event was excluded from the subsequent steps of the analysis. \n",
    "\n",
    "Note that for computing Pearson correlation in step 3, at least three values are required in the matching positions. Applying a p-value threshold of 0.05, we identify the following pairs as signals by considering AE correlations: \n",
    "\n",
    "- (Muscle Rupture, Fluvastatin)\n",
    "- (Muscle Rupture, Pravastatin)\n",
    "- (Muscle Disorder, Rosuvastatin)"
   ]
  },
  {
   "cell_type": "markdown",
   "metadata": {},
   "source": [
    "#### Function for Finding Optimal Boxplot Coefficient"
   ]
  },
  {
   "cell_type": "code",
   "execution_count": null,
   "metadata": {},
   "outputs": [],
   "source": [
    "MDDC.MDDC.find_optimal_coef(\n",
    "    contin_table=statin49,\n",
    "    rep=1000,\n",
    "    target_fdr=0.05,\n",
    "    grid=0.1,\n",
    "    col_specific_cutoff=True,\n",
    "    exclude_small_count=True,\n",
    ")"
   ]
  },
  {
   "cell_type": "markdown",
   "metadata": {},
   "source": [
    "This function outputs a list with the following components:\n",
    "\n",
    "- `coef`: A numeric vector containing the optimal coefficient ‘coef’ for each column of the input contingency table.\n",
    "\n",
    "- `FDR`: A numeric vector with the corresponding false discovery rate (FDR) for each column."
   ]
  },
  {
   "cell_type": "markdown",
   "metadata": {},
   "source": [
    "### Using Monte Carlo Method"
   ]
  },
  {
   "cell_type": "code",
   "execution_count": null,
   "metadata": {},
   "outputs": [],
   "source": [
    "mc_results = MDDC.MDDC.mddc(\n",
    "    contin_table=statin49,\n",
    "    method=\"monte_carlo\",\n",
    "    rep=10000,\n",
    "    exclude_same_drug_class=True,\n",
    "    col_specific_cutoff=True,\n",
    "    separate=True,\n",
    "    if_col_corr=False,\n",
    "    corr_lim=0.8,\n",
    ")"
   ]
  },
  {
   "cell_type": "code",
   "execution_count": null,
   "metadata": {},
   "outputs": [],
   "source": [
    "print(\n",
    "    f\"The Monte Carlo method result contains the following components:{mc_results._fields}\"\n",
    ")"
   ]
  },
  {
   "cell_type": "markdown",
   "metadata": {},
   "source": [
    "- `pval`: p-values for each cell in the step 2 of the algorithm, calculated using the Monte Carlo method for cells with count greater than five, and Fisher’s exact test for cells with count less than or equal to five. Please note the p-values are not adjusted for multiple testing.\n",
    "- `pval_adj`: Matrix of adjusted p-values using the Benjamini-Hochberg procedure for each cell in the second step.\n",
    "- `signal:`: Matrix indicating significant signals with count greater than five and identified in the step 2 by the Monte Carlo method. 1 indicates a signal, 0 indicates non-signal. Please note the unadjusted p-values are used to identify signals here.\n",
    "- `fisher_signal`: Matrix indicating signals with a count less than or equal to five and identified by Fisher’s exact test. 1 indicates a signal, 0 indicates non-signal. Please note the unadjusted p-values are used to identify signals here.\n",
    "- `signal_adj`: Matrix indicating significant signals with count greater than five and identified in the step 2 by the Monte Carlo method. 1 indicates a signal, 0 indicates non-signal. Please note the adjusted p-values are used to identify signals here.\n",
    "- `fisher_signal_adj`: Matrix indicating signals with a count less than or equal to five and identified by Fisher’s exact test. 1 indicates a signal, 0 indicates non-signal. Please note the adjusted p-values are used to identify signals here.\n",
    "- `corr_signal_pval`: Returns the p-values for each cell in the contingency table in step 5, where the $r_{ij}$ values are mapped back to the standard normal distribution.\n",
    "- `corr_signal_adj_pval`: Returns the Benjamini-Hochberg adjusted p-values for each cell in step 5. Users can choose whether to use `corr_signal_pval` or `corr_signal_adj_pval`, and select an appropriate p-value threshold (for example, 0.05).\n"
   ]
  },
  {
   "cell_type": "markdown",
   "metadata": {},
   "source": [
    "## Function for Reporting "
   ]
  },
  {
   "cell_type": "markdown",
   "metadata": {},
   "source": [
    "For ease of use and understanding the identified signals, we have also included a utility function which extracts the signals from\n",
    "the signal matrix and constructs a dataframe. \n",
    "\n",
    "The function `report_drug_AE_pairs()` displays the identified (AE, drug) pairs as well as the observed count, expected count, and the standardized Pearson residuals for the pairs. This function takes two arguments:\n",
    "\n",
    "- `contin_table`: A data matrix representing an $I \\times J$ contingency table, with rows corresponding to adverse events and columns corresponding to drugs.\n",
    "- `contin_table_signal`: A data matrix with the same dimensions and row and column names as `contin_table`. Entries should be either 1 (indicating a signal) or 0 (indicating no signal). This matrix can be obtained by applying the `MDDC.MDDC.mddc()` functions to `contin_table`.\n"
   ]
  },
  {
   "cell_type": "code",
   "execution_count": null,
   "metadata": {},
   "outputs": [],
   "source": [
    "report_df = MDDC.utils.report_drug_AE_pairs(statin49, mc_results.signal_adj)\n",
    "\n",
    "report_df.head()"
   ]
  },
  {
   "cell_type": "markdown",
   "metadata": {},
   "source": [
    "## Simulating datasets with grouped AEs"
   ]
  },
  {
   "cell_type": "markdown",
   "metadata": {},
   "source": [
    "- `contin_table`: A data matrix representing an $I \\times J$ contingency table with rows corresponding to adverse events and columns corresponding to drugs. The row and column marginals are used to generate the simulated data.\n",
    "- `signal_mat`: A data matrix of the same dimensions as the contingency table with entries indicating the signal strength. Values must be greater than or equal to 1, where 1 indicates no signal, and values greater than 1 indicate a signal.\n",
    "- `cluster_idx`: A numpy.ndarray, list or pandas.DataFrame denoting the cluster index of the various AEs. \n",
    "- `n`: The number of simulated contingency tables to be generated.\n",
    "- `rho`: A numeric value representing the correlation of the AEs within each cluster. The default is 0.5.\n",
    "- `n_job:`: n_jobs specifies the maximum number of concurrently running workers.\n",
    "- `seed`:  Random seed for reproducibility of the simulation."
   ]
  },
  {
   "cell_type": "code",
   "execution_count": null,
   "metadata": {},
   "outputs": [],
   "source": [
    "contin_table = statin49_cluster_idx.drop(columns=[\"cluster_idx\"])\n",
    "cluster_idx = statin49_cluster_idx[\"cluster_idx\"].to_list()\n",
    "signal_mat = pd.DataFrame(np.ones(contin_table.shape))\n",
    "signal_mat.columns = list(contin_table.columns)\n",
    "signal_mat.index = list(contin_table.index)\n",
    "\n",
    "# A signal of strength 4 is embedded in Rhabdomyolysis for Atorvastatin\n",
    "signal_mat.at[\"Rhabdomyolysis\", \"Atorvastatin\"] = 4"
   ]
  },
  {
   "cell_type": "code",
   "execution_count": null,
   "metadata": {},
   "outputs": [],
   "source": [
    "simulated_datasets = MDDC.utils.generate_contin_table_with_clustered_AE(\n",
    "    row_marginal=None,\n",
    "    column_marginal=None,\n",
    "    contin_table=contin_table,\n",
    "    signal_mat=signal_mat,\n",
    "    cluster_idx=cluster_idx,\n",
    "    n=3,\n",
    "    rho=0.5,\n",
    "    seed=42,\n",
    ")"
   ]
  },
  {
   "cell_type": "code",
   "execution_count": null,
   "metadata": {},
   "outputs": [],
   "source": [
    "mc_results_with_sim_data = MDDC.MDDC.mddc(simulated_datasets[0], method=\"monte_carlo\")"
   ]
  },
  {
   "cell_type": "code",
   "execution_count": null,
   "metadata": {},
   "outputs": [],
   "source": [
    "mc_report_with_sim_datasets_df = MDDC.utils.report_drug_AE_pairs(\n",
    "    simulated_datasets[0], mc_results_with_sim_data.signal\n",
    ")\n",
    "\n",
    "mc_report_with_sim_datasets_df"
   ]
  },
  {
   "cell_type": "markdown",
   "metadata": {},
   "source": [
    "In the above output, we can see that the identified signal pair is (Atorvastatin, Rhabdomyolysis) which matches the signal embedded previously."
   ]
  },
  {
   "cell_type": "markdown",
   "metadata": {},
   "source": [
    "## Visualization"
   ]
  },
  {
   "cell_type": "markdown",
   "metadata": {},
   "source": [
    "We have also included heatmap visulizations as a part of our package to help visualize the identified signals or p-values. \n",
    "\n",
    "This function takes the following arguments: \n",
    "- `data:` The data to be plotted as a heatmap. This attribute should be a numpy.ndarray or pandas.DataFrame.\n",
    "- `size_cell:` The size of each cell in the heatmap, which affects the dimensions of the resulting plot."
   ]
  },
  {
   "cell_type": "code",
   "execution_count": null,
   "metadata": {},
   "outputs": [],
   "source": [
    "# visualizing the identified signals\n",
    "MDDC.utils.plot_heatmap(mc_results.signal_adj.iloc[:-1], cmap=\"Blues\")"
   ]
  },
  {
   "cell_type": "code",
   "execution_count": null,
   "metadata": {},
   "outputs": [],
   "source": [
    "# visualizing the p-values\n",
    "MDDC.utils.plot_heatmap(mc_results.pval_adj.iloc[:-1], cmap=\"Blues_r\")"
   ]
  }
 ],
 "metadata": {
  "kernelspec": {
   "display_name": "base",
   "language": "python",
   "name": "python3"
  },
  "language_info": {
   "codemirror_mode": {
    "name": "ipython",
    "version": 3
   },
   "file_extension": ".py",
   "mimetype": "text/x-python",
   "name": "python",
   "nbconvert_exporter": "python",
   "pygments_lexer": "ipython3",
   "version": "3.10.12"
  }
 },
 "nbformat": 4,
 "nbformat_minor": 2
}
